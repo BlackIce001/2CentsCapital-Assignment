{
  "cells": [
    {
      "cell_type": "markdown",
      "metadata": {
        "id": "view-in-github",
        "colab_type": "text"
      },
      "source": [
        "<a href=\"https://colab.research.google.com/github/BlackIce001/2CentsCapital-Assignment/blob/main/Advanced_Technical_Analysis_Strategy.ipynb\" target=\"_parent\"><img src=\"https://colab.research.google.com/assets/colab-badge.svg\" alt=\"Open In Colab\"/></a>"
      ]
    },
    {
      "cell_type": "code",
      "execution_count": 25,
      "id": "1324ad79-93e9-4860-ab05-8f7d89f6c2b9",
      "metadata": {
        "colab": {
          "base_uri": "https://localhost:8080/"
        },
        "id": "1324ad79-93e9-4860-ab05-8f7d89f6c2b9",
        "outputId": "9f2c374d-b93c-435d-a464-61cb923562cd"
      },
      "outputs": [
        {
          "output_type": "stream",
          "name": "stdout",
          "text": [
            "Requirement already satisfied: yfinance in /usr/local/lib/python3.10/dist-packages (0.2.40)\n",
            "Requirement already satisfied: pandas in /usr/local/lib/python3.10/dist-packages (2.0.3)\n",
            "Requirement already satisfied: numpy in /usr/local/lib/python3.10/dist-packages (1.25.2)\n",
            "Requirement already satisfied: matplotlib in /usr/local/lib/python3.10/dist-packages (3.7.1)\n",
            "Requirement already satisfied: pandas-ta in /usr/local/lib/python3.10/dist-packages (0.3.14b0)\n",
            "Requirement already satisfied: requests>=2.31 in /usr/local/lib/python3.10/dist-packages (from yfinance) (2.31.0)\n",
            "Requirement already satisfied: multitasking>=0.0.7 in /usr/local/lib/python3.10/dist-packages (from yfinance) (0.0.11)\n",
            "Requirement already satisfied: lxml>=4.9.1 in /usr/local/lib/python3.10/dist-packages (from yfinance) (4.9.4)\n",
            "Requirement already satisfied: platformdirs>=2.0.0 in /usr/local/lib/python3.10/dist-packages (from yfinance) (4.2.2)\n",
            "Requirement already satisfied: pytz>=2022.5 in /usr/local/lib/python3.10/dist-packages (from yfinance) (2023.4)\n",
            "Requirement already satisfied: frozendict>=2.3.4 in /usr/local/lib/python3.10/dist-packages (from yfinance) (2.4.4)\n",
            "Requirement already satisfied: peewee>=3.16.2 in /usr/local/lib/python3.10/dist-packages (from yfinance) (3.17.5)\n",
            "Requirement already satisfied: beautifulsoup4>=4.11.1 in /usr/local/lib/python3.10/dist-packages (from yfinance) (4.12.3)\n",
            "Requirement already satisfied: html5lib>=1.1 in /usr/local/lib/python3.10/dist-packages (from yfinance) (1.1)\n",
            "Requirement already satisfied: python-dateutil>=2.8.2 in /usr/local/lib/python3.10/dist-packages (from pandas) (2.8.2)\n",
            "Requirement already satisfied: tzdata>=2022.1 in /usr/local/lib/python3.10/dist-packages (from pandas) (2024.1)\n",
            "Requirement already satisfied: contourpy>=1.0.1 in /usr/local/lib/python3.10/dist-packages (from matplotlib) (1.2.1)\n",
            "Requirement already satisfied: cycler>=0.10 in /usr/local/lib/python3.10/dist-packages (from matplotlib) (0.12.1)\n",
            "Requirement already satisfied: fonttools>=4.22.0 in /usr/local/lib/python3.10/dist-packages (from matplotlib) (4.53.0)\n",
            "Requirement already satisfied: kiwisolver>=1.0.1 in /usr/local/lib/python3.10/dist-packages (from matplotlib) (1.4.5)\n",
            "Requirement already satisfied: packaging>=20.0 in /usr/local/lib/python3.10/dist-packages (from matplotlib) (24.0)\n",
            "Requirement already satisfied: pillow>=6.2.0 in /usr/local/lib/python3.10/dist-packages (from matplotlib) (9.4.0)\n",
            "Requirement already satisfied: pyparsing>=2.3.1 in /usr/local/lib/python3.10/dist-packages (from matplotlib) (3.1.2)\n",
            "Requirement already satisfied: soupsieve>1.2 in /usr/local/lib/python3.10/dist-packages (from beautifulsoup4>=4.11.1->yfinance) (2.5)\n",
            "Requirement already satisfied: six>=1.9 in /usr/local/lib/python3.10/dist-packages (from html5lib>=1.1->yfinance) (1.16.0)\n",
            "Requirement already satisfied: webencodings in /usr/local/lib/python3.10/dist-packages (from html5lib>=1.1->yfinance) (0.5.1)\n",
            "Requirement already satisfied: charset-normalizer<4,>=2 in /usr/local/lib/python3.10/dist-packages (from requests>=2.31->yfinance) (3.3.2)\n",
            "Requirement already satisfied: idna<4,>=2.5 in /usr/local/lib/python3.10/dist-packages (from requests>=2.31->yfinance) (3.7)\n",
            "Requirement already satisfied: urllib3<3,>=1.21.1 in /usr/local/lib/python3.10/dist-packages (from requests>=2.31->yfinance) (2.0.7)\n",
            "Requirement already satisfied: certifi>=2017.4.17 in /usr/local/lib/python3.10/dist-packages (from requests>=2.31->yfinance) (2024.6.2)\n"
          ]
        }
      ],
      "source": [
        "!pip install yfinance pandas numpy matplotlib pandas-ta\n",
        "\n",
        "\n",
        "import pandas_ta as ta                                           # Downloaded and imported important libraries of python required for this project .\n",
        "import yfinance as yf\n",
        "import pandas as pd\n",
        "import numpy as np\n",
        "import matplotlib.pyplot as plt"
      ]
    },
    {
      "cell_type": "code",
      "execution_count": 26,
      "id": "5174e042-f417-4a02-98b2-90de66f550ff",
      "metadata": {
        "id": "5174e042-f417-4a02-98b2-90de66f550ff"
      },
      "outputs": [],
      "source": [
        "stock_symbols = [\n",
        "    \"AAPL\", \"MSFT\", \"GOOGL\", \"AMZN\", \"TSLA\", \"NVDA\", \"JPM\", \"JNJ\", \"V\",\n",
        "    \"UNH\", \"HD\", \"PG\", \"PYPL\", \"DIS\", \"MA\", \"NFLX\", \"ADBE\", \"CRM\", \"XOM\",\n",
        "    \"KO\", \"NKE\", \"MRK\", \"PEP\", \"PFE\", \"T\", \"MCD\", \"VZ\", \"INTC\", \"CSCO\",         # added 100 stocks symbols of different companies listed in stock market\n",
        "    \"WMT\", \"BA\", \"CMCSA\", \"ABT\", \"ACN\", \"ABBV\", \"COST\", \"MDT\", \"DHR\", \"TMO\",\n",
        "    \"NEE\", \"TXN\", \"HON\", \"AVGO\", \"QCOM\", \"AMGN\", \"UNP\", \"LIN\", \"PM\", \"LOW\",\n",
        "    \"IBM\", \"SBUX\", \"MMM\", \"GE\", \"CAT\", \"CVX\", \"SPGI\", \"AXP\", \"GS\", \"RTX\",\n",
        "    \"MS\", \"BLK\", \"CI\", \"PLD\", \"INTU\", \"MO\", \"BKNG\", \"ISRG\", \"LMT\", \"FISV\",\n",
        "    \"SYK\", \"ZTS\", \"MDLZ\", \"AMT\", \"SCHW\", \"ADP\", \"CB\", \"CCI\", \"DUK\", \"GM\",\n",
        "    \"EW\", \"SO\", \"BDX\", \"ICE\", \"ATVI\", \"MMC\", \"GILD\", \"MU\", \"VRTX\", \"TFC\",\n",
        "    \"APD\", \"DE\", \"NOC\", \"TRV\", \"HUM\", \"FDX\", \"AON\", \"ETN\", \"ITW\", \"CME\",\n",
        "    \"NEM\" ]"
      ]
    },
    {
      "cell_type": "code",
      "source": [
        "start_date = \"2018-06-01\"\n",
        "end_date = \"2023-06-01\"                                      # as required adding 5 years timeline in which all required data of 100 different companies stock will be imported\n",
        "                                                             # within this timeline"
      ],
      "metadata": {
        "id": "pYs7K8ndmTyN"
      },
      "id": "pYs7K8ndmTyN",
      "execution_count": 27,
      "outputs": []
    },
    {
      "cell_type": "code",
      "source": [
        "data = {}                                         # all information are stored in data"
      ],
      "metadata": {
        "id": "_X30l22wmZ8Z"
      },
      "id": "_X30l22wmZ8Z",
      "execution_count": 28,
      "outputs": []
    },
    {
      "cell_type": "code",
      "source": [
        "                                                                                 # Download data for each stock symbol and within specified timeline\n",
        "for symbol in stock_symbols:\n",
        "    print(f\"Downloading data for {symbol}\")\n",
        "    stock_data = yf.download(symbol, start=start_date, end=end_date)\n",
        "    data[symbol] = stock_data"
      ],
      "metadata": {
        "colab": {
          "base_uri": "https://localhost:8080/"
        },
        "id": "2i4sNRHJmfRC",
        "outputId": "3378522c-dbcb-437d-b219-0281c3585279"
      },
      "id": "2i4sNRHJmfRC",
      "execution_count": 29,
      "outputs": [
        {
          "output_type": "stream",
          "name": "stdout",
          "text": [
            "Downloading data for AAPL\n"
          ]
        },
        {
          "output_type": "stream",
          "name": "stderr",
          "text": [
            "[*********************100%%**********************]  1 of 1 completed\n",
            "[*********************100%%**********************]  1 of 1 completed\n",
            "[*********************100%%**********************]  1 of 1 completed\n"
          ]
        },
        {
          "output_type": "stream",
          "name": "stdout",
          "text": [
            "Downloading data for MSFT\n",
            "Downloading data for GOOGL\n",
            "Downloading data for AMZN\n"
          ]
        },
        {
          "output_type": "stream",
          "name": "stderr",
          "text": [
            "[*********************100%%**********************]  1 of 1 completed\n",
            "[*********************100%%**********************]  1 of 1 completed\n"
          ]
        },
        {
          "output_type": "stream",
          "name": "stdout",
          "text": [
            "Downloading data for TSLA\n",
            "Downloading data for NVDA\n"
          ]
        },
        {
          "output_type": "stream",
          "name": "stderr",
          "text": [
            "[*********************100%%**********************]  1 of 1 completed\n",
            "[*********************100%%**********************]  1 of 1 completed\n"
          ]
        },
        {
          "output_type": "stream",
          "name": "stdout",
          "text": [
            "Downloading data for JPM\n",
            "Downloading data for JNJ\n"
          ]
        },
        {
          "output_type": "stream",
          "name": "stderr",
          "text": [
            "[*********************100%%**********************]  1 of 1 completed\n",
            "[*********************100%%**********************]  1 of 1 completed\n"
          ]
        },
        {
          "output_type": "stream",
          "name": "stdout",
          "text": [
            "Downloading data for V\n",
            "Downloading data for UNH\n"
          ]
        },
        {
          "output_type": "stream",
          "name": "stderr",
          "text": [
            "[*********************100%%**********************]  1 of 1 completed\n",
            "[*********************100%%**********************]  1 of 1 completed\n"
          ]
        },
        {
          "output_type": "stream",
          "name": "stdout",
          "text": [
            "Downloading data for HD\n",
            "Downloading data for PG\n"
          ]
        },
        {
          "output_type": "stream",
          "name": "stderr",
          "text": [
            "[*********************100%%**********************]  1 of 1 completed\n",
            "[*********************100%%**********************]  1 of 1 completed\n"
          ]
        },
        {
          "output_type": "stream",
          "name": "stdout",
          "text": [
            "Downloading data for PYPL\n",
            "Downloading data for DIS\n"
          ]
        },
        {
          "output_type": "stream",
          "name": "stderr",
          "text": [
            "[*********************100%%**********************]  1 of 1 completed\n",
            "[*********************100%%**********************]  1 of 1 completed\n"
          ]
        },
        {
          "output_type": "stream",
          "name": "stdout",
          "text": [
            "Downloading data for MA\n",
            "Downloading data for NFLX\n"
          ]
        },
        {
          "output_type": "stream",
          "name": "stderr",
          "text": [
            "[*********************100%%**********************]  1 of 1 completed\n",
            "[*********************100%%**********************]  1 of 1 completed\n"
          ]
        },
        {
          "output_type": "stream",
          "name": "stdout",
          "text": [
            "Downloading data for ADBE\n",
            "Downloading data for CRM\n"
          ]
        },
        {
          "output_type": "stream",
          "name": "stderr",
          "text": [
            "\r[*********************100%%**********************]  1 of 1 completed\n"
          ]
        },
        {
          "output_type": "stream",
          "name": "stdout",
          "text": [
            "Downloading data for XOM\n"
          ]
        },
        {
          "output_type": "stream",
          "name": "stderr",
          "text": [
            "\r[*********************100%%**********************]  1 of 1 completed\n"
          ]
        },
        {
          "output_type": "stream",
          "name": "stdout",
          "text": [
            "Downloading data for KO\n"
          ]
        },
        {
          "output_type": "stream",
          "name": "stderr",
          "text": [
            "[*********************100%%**********************]  1 of 1 completed\n",
            "[*********************100%%**********************]  1 of 1 completed\n"
          ]
        },
        {
          "output_type": "stream",
          "name": "stdout",
          "text": [
            "Downloading data for NKE\n",
            "Downloading data for MRK\n"
          ]
        },
        {
          "output_type": "stream",
          "name": "stderr",
          "text": [
            "\r[*********************100%%**********************]  1 of 1 completed\n"
          ]
        },
        {
          "output_type": "stream",
          "name": "stdout",
          "text": [
            "Downloading data for PEP\n"
          ]
        },
        {
          "output_type": "stream",
          "name": "stderr",
          "text": [
            "\r[*********************100%%**********************]  1 of 1 completed\n"
          ]
        },
        {
          "output_type": "stream",
          "name": "stdout",
          "text": [
            "Downloading data for PFE\n"
          ]
        },
        {
          "output_type": "stream",
          "name": "stderr",
          "text": [
            "\r[*********************100%%**********************]  1 of 1 completed\n"
          ]
        },
        {
          "output_type": "stream",
          "name": "stdout",
          "text": [
            "Downloading data for T\n"
          ]
        },
        {
          "output_type": "stream",
          "name": "stderr",
          "text": [
            "\r[*********************100%%**********************]  1 of 1 completed\n"
          ]
        },
        {
          "output_type": "stream",
          "name": "stdout",
          "text": [
            "Downloading data for MCD\n"
          ]
        },
        {
          "output_type": "stream",
          "name": "stderr",
          "text": [
            "\r[*********************100%%**********************]  1 of 1 completed\n"
          ]
        },
        {
          "output_type": "stream",
          "name": "stdout",
          "text": [
            "Downloading data for VZ\n"
          ]
        },
        {
          "output_type": "stream",
          "name": "stderr",
          "text": [
            "\r[*********************100%%**********************]  1 of 1 completed\n"
          ]
        },
        {
          "output_type": "stream",
          "name": "stdout",
          "text": [
            "Downloading data for INTC\n"
          ]
        },
        {
          "output_type": "stream",
          "name": "stderr",
          "text": [
            "[*********************100%%**********************]  1 of 1 completed\n",
            "[*********************100%%**********************]  1 of 1 completed\n"
          ]
        },
        {
          "output_type": "stream",
          "name": "stdout",
          "text": [
            "Downloading data for CSCO\n",
            "Downloading data for WMT\n"
          ]
        },
        {
          "output_type": "stream",
          "name": "stderr",
          "text": [
            "\r[*********************100%%**********************]  1 of 1 completed\n"
          ]
        },
        {
          "output_type": "stream",
          "name": "stdout",
          "text": [
            "Downloading data for BA\n"
          ]
        },
        {
          "output_type": "stream",
          "name": "stderr",
          "text": [
            "\r[*********************100%%**********************]  1 of 1 completed\n"
          ]
        },
        {
          "output_type": "stream",
          "name": "stdout",
          "text": [
            "Downloading data for CMCSA\n"
          ]
        },
        {
          "output_type": "stream",
          "name": "stderr",
          "text": [
            "\r[*********************100%%**********************]  1 of 1 completed\n"
          ]
        },
        {
          "output_type": "stream",
          "name": "stdout",
          "text": [
            "Downloading data for ABT\n"
          ]
        },
        {
          "output_type": "stream",
          "name": "stderr",
          "text": [
            "\r[*********************100%%**********************]  1 of 1 completed\n"
          ]
        },
        {
          "output_type": "stream",
          "name": "stdout",
          "text": [
            "Downloading data for ACN\n"
          ]
        },
        {
          "output_type": "stream",
          "name": "stderr",
          "text": [
            "[*********************100%%**********************]  1 of 1 completed\n",
            "[*********************100%%**********************]  1 of 1 completed"
          ]
        },
        {
          "output_type": "stream",
          "name": "stdout",
          "text": [
            "Downloading data for ABBV\n",
            "Downloading data for COST\n"
          ]
        },
        {
          "output_type": "stream",
          "name": "stderr",
          "text": [
            "\n",
            "[*********************100%%**********************]  1 of 1 completed\n"
          ]
        },
        {
          "output_type": "stream",
          "name": "stdout",
          "text": [
            "Downloading data for MDT\n"
          ]
        },
        {
          "output_type": "stream",
          "name": "stderr",
          "text": [
            "\r[*********************100%%**********************]  1 of 1 completed\n"
          ]
        },
        {
          "output_type": "stream",
          "name": "stdout",
          "text": [
            "Downloading data for DHR\n"
          ]
        },
        {
          "output_type": "stream",
          "name": "stderr",
          "text": [
            "\r[*********************100%%**********************]  1 of 1 completed\n"
          ]
        },
        {
          "output_type": "stream",
          "name": "stdout",
          "text": [
            "Downloading data for TMO\n"
          ]
        },
        {
          "output_type": "stream",
          "name": "stderr",
          "text": [
            "\r[*********************100%%**********************]  1 of 1 completed\n"
          ]
        },
        {
          "output_type": "stream",
          "name": "stdout",
          "text": [
            "Downloading data for NEE\n"
          ]
        },
        {
          "output_type": "stream",
          "name": "stderr",
          "text": [
            "[*********************100%%**********************]  1 of 1 completed\n",
            "[*********************100%%**********************]  1 of 1 completed\n"
          ]
        },
        {
          "output_type": "stream",
          "name": "stdout",
          "text": [
            "Downloading data for TXN\n",
            "Downloading data for HON\n"
          ]
        },
        {
          "output_type": "stream",
          "name": "stderr",
          "text": [
            "[*********************100%%**********************]  1 of 1 completed\n",
            "[*********************100%%**********************]  1 of 1 completed\n"
          ]
        },
        {
          "output_type": "stream",
          "name": "stdout",
          "text": [
            "Downloading data for AVGO\n",
            "Downloading data for QCOM\n"
          ]
        },
        {
          "output_type": "stream",
          "name": "stderr",
          "text": [
            "[*********************100%%**********************]  1 of 1 completed\n",
            "[*********************100%%**********************]  1 of 1 completed\n"
          ]
        },
        {
          "output_type": "stream",
          "name": "stdout",
          "text": [
            "Downloading data for AMGN\n",
            "Downloading data for UNP\n"
          ]
        },
        {
          "output_type": "stream",
          "name": "stderr",
          "text": [
            "[*********************100%%**********************]  1 of 1 completed\n",
            "[*********************100%%**********************]  1 of 1 completed"
          ]
        },
        {
          "output_type": "stream",
          "name": "stdout",
          "text": [
            "Downloading data for LIN\n"
          ]
        },
        {
          "output_type": "stream",
          "name": "stderr",
          "text": [
            "\n",
            "\r[*********************100%%**********************]  1 of 1 completed\n"
          ]
        },
        {
          "output_type": "stream",
          "name": "stdout",
          "text": [
            "Downloading data for PM\n",
            "Downloading data for LOW\n"
          ]
        },
        {
          "output_type": "stream",
          "name": "stderr",
          "text": [
            "\r[*********************100%%**********************]  1 of 1 completed\n"
          ]
        },
        {
          "output_type": "stream",
          "name": "stdout",
          "text": [
            "Downloading data for IBM\n"
          ]
        },
        {
          "output_type": "stream",
          "name": "stderr",
          "text": [
            "\r[*********************100%%**********************]  1 of 1 completed\n"
          ]
        },
        {
          "output_type": "stream",
          "name": "stdout",
          "text": [
            "Downloading data for SBUX\n"
          ]
        },
        {
          "output_type": "stream",
          "name": "stderr",
          "text": [
            "\r[*********************100%%**********************]  1 of 1 completed\n"
          ]
        },
        {
          "output_type": "stream",
          "name": "stdout",
          "text": [
            "Downloading data for MMM\n"
          ]
        },
        {
          "output_type": "stream",
          "name": "stderr",
          "text": [
            "[*********************100%%**********************]  1 of 1 completed\n",
            "[*********************100%%**********************]  1 of 1 completed\n"
          ]
        },
        {
          "output_type": "stream",
          "name": "stdout",
          "text": [
            "Downloading data for GE\n",
            "Downloading data for CAT\n"
          ]
        },
        {
          "output_type": "stream",
          "name": "stderr",
          "text": [
            "\r[*********************100%%**********************]  1 of 1 completed\n"
          ]
        },
        {
          "output_type": "stream",
          "name": "stdout",
          "text": [
            "Downloading data for CVX\n"
          ]
        },
        {
          "output_type": "stream",
          "name": "stderr",
          "text": [
            "\r[*********************100%%**********************]  1 of 1 completed\n"
          ]
        },
        {
          "output_type": "stream",
          "name": "stdout",
          "text": [
            "Downloading data for SPGI\n"
          ]
        },
        {
          "output_type": "stream",
          "name": "stderr",
          "text": [
            "\r[*********************100%%**********************]  1 of 1 completed\n"
          ]
        },
        {
          "output_type": "stream",
          "name": "stdout",
          "text": [
            "Downloading data for AXP\n"
          ]
        },
        {
          "output_type": "stream",
          "name": "stderr",
          "text": [
            "[*********************100%%**********************]  1 of 1 completed\n",
            "[*********************100%%**********************]  1 of 1 completed\n"
          ]
        },
        {
          "output_type": "stream",
          "name": "stdout",
          "text": [
            "Downloading data for GS\n",
            "Downloading data for RTX\n"
          ]
        },
        {
          "output_type": "stream",
          "name": "stderr",
          "text": [
            "\r[*********************100%%**********************]  1 of 1 completed\n"
          ]
        },
        {
          "output_type": "stream",
          "name": "stdout",
          "text": [
            "Downloading data for MS\n"
          ]
        },
        {
          "output_type": "stream",
          "name": "stderr",
          "text": [
            "\r[*********************100%%**********************]  1 of 1 completed\n"
          ]
        },
        {
          "output_type": "stream",
          "name": "stdout",
          "text": [
            "Downloading data for BLK\n"
          ]
        },
        {
          "output_type": "stream",
          "name": "stderr",
          "text": [
            "[*********************100%%**********************]  1 of 1 completed\n",
            "[*********************100%%**********************]  1 of 1 completed\n"
          ]
        },
        {
          "output_type": "stream",
          "name": "stdout",
          "text": [
            "Downloading data for CI\n",
            "Downloading data for PLD\n"
          ]
        },
        {
          "output_type": "stream",
          "name": "stderr",
          "text": [
            "[*********************100%%**********************]  1 of 1 completed\n",
            "[*********************100%%**********************]  1 of 1 completed\n"
          ]
        },
        {
          "output_type": "stream",
          "name": "stdout",
          "text": [
            "Downloading data for INTU\n",
            "Downloading data for MO\n"
          ]
        },
        {
          "output_type": "stream",
          "name": "stderr",
          "text": [
            "[*********************100%%**********************]  1 of 1 completed\n",
            "[*********************100%%**********************]  1 of 1 completed\n"
          ]
        },
        {
          "output_type": "stream",
          "name": "stdout",
          "text": [
            "Downloading data for BKNG\n",
            "Downloading data for ISRG\n"
          ]
        },
        {
          "output_type": "stream",
          "name": "stderr",
          "text": [
            "\r[*********************100%%**********************]  1 of 1 completed\n"
          ]
        },
        {
          "output_type": "stream",
          "name": "stdout",
          "text": [
            "Downloading data for LMT\n"
          ]
        },
        {
          "output_type": "stream",
          "name": "stderr",
          "text": [
            "[*********************100%%**********************]  1 of 1 completed\n",
            "[*********************100%%**********************]  1 of 1 completed\n"
          ]
        },
        {
          "output_type": "stream",
          "name": "stdout",
          "text": [
            "Downloading data for FISV\n",
            "Downloading data for SYK\n"
          ]
        },
        {
          "output_type": "stream",
          "name": "stderr",
          "text": [
            "[*********************100%%**********************]  1 of 1 completed\n",
            "[*********************100%%**********************]  1 of 1 completed\n"
          ]
        },
        {
          "output_type": "stream",
          "name": "stdout",
          "text": [
            "Downloading data for ZTS\n",
            "Downloading data for MDLZ\n"
          ]
        },
        {
          "output_type": "stream",
          "name": "stderr",
          "text": [
            "[*********************100%%**********************]  1 of 1 completed\n",
            "[*********************100%%**********************]  1 of 1 completed\n"
          ]
        },
        {
          "output_type": "stream",
          "name": "stdout",
          "text": [
            "Downloading data for AMT\n",
            "Downloading data for SCHW\n"
          ]
        },
        {
          "output_type": "stream",
          "name": "stderr",
          "text": [
            "[*********************100%%**********************]  1 of 1 completed\n",
            "[*********************100%%**********************]  1 of 1 completed\n"
          ]
        },
        {
          "output_type": "stream",
          "name": "stdout",
          "text": [
            "Downloading data for ADP\n",
            "Downloading data for CB\n"
          ]
        },
        {
          "output_type": "stream",
          "name": "stderr",
          "text": [
            "\r[*********************100%%**********************]  1 of 1 completed\n"
          ]
        },
        {
          "output_type": "stream",
          "name": "stdout",
          "text": [
            "Downloading data for CCI\n"
          ]
        },
        {
          "output_type": "stream",
          "name": "stderr",
          "text": [
            "[*********************100%%**********************]  1 of 1 completed\n",
            "[*********************100%%**********************]  1 of 1 completed\n"
          ]
        },
        {
          "output_type": "stream",
          "name": "stdout",
          "text": [
            "Downloading data for DUK\n",
            "Downloading data for GM\n"
          ]
        },
        {
          "output_type": "stream",
          "name": "stderr",
          "text": [
            "[*********************100%%**********************]  1 of 1 completed\n",
            "[*********************100%%**********************]  1 of 1 completed\n"
          ]
        },
        {
          "output_type": "stream",
          "name": "stdout",
          "text": [
            "Downloading data for EW\n",
            "Downloading data for SO\n"
          ]
        },
        {
          "output_type": "stream",
          "name": "stderr",
          "text": [
            "\r[*********************100%%**********************]  1 of 1 completed\n"
          ]
        },
        {
          "output_type": "stream",
          "name": "stdout",
          "text": [
            "Downloading data for BDX\n"
          ]
        },
        {
          "output_type": "stream",
          "name": "stderr",
          "text": [
            "[*********************100%%**********************]  1 of 1 completed\n",
            "[*********************100%%**********************]  1 of 1 completed\n"
          ]
        },
        {
          "output_type": "stream",
          "name": "stdout",
          "text": [
            "Downloading data for ICE\n",
            "Downloading data for ATVI\n"
          ]
        },
        {
          "output_type": "stream",
          "name": "stderr",
          "text": [
            "\r[*********************100%%**********************]  1 of 1 completed\n",
            "ERROR:yfinance:\n",
            "1 Failed download:\n",
            "ERROR:yfinance:['ATVI']: YFTzMissingError('$%ticker%: possibly delisted; No timezone found')\n"
          ]
        },
        {
          "output_type": "stream",
          "name": "stdout",
          "text": [
            "Downloading data for MMC\n"
          ]
        },
        {
          "output_type": "stream",
          "name": "stderr",
          "text": [
            "\r[*********************100%%**********************]  1 of 1 completed\n"
          ]
        },
        {
          "output_type": "stream",
          "name": "stdout",
          "text": [
            "Downloading data for GILD\n"
          ]
        },
        {
          "output_type": "stream",
          "name": "stderr",
          "text": [
            "[*********************100%%**********************]  1 of 1 completed\n",
            "[*********************100%%**********************]  1 of 1 completed\n"
          ]
        },
        {
          "output_type": "stream",
          "name": "stdout",
          "text": [
            "Downloading data for MU\n",
            "Downloading data for VRTX\n"
          ]
        },
        {
          "output_type": "stream",
          "name": "stderr",
          "text": [
            "[*********************100%%**********************]  1 of 1 completed\n",
            "[*********************100%%**********************]  1 of 1 completed\n"
          ]
        },
        {
          "output_type": "stream",
          "name": "stdout",
          "text": [
            "Downloading data for TFC\n",
            "Downloading data for APD\n"
          ]
        },
        {
          "output_type": "stream",
          "name": "stderr",
          "text": [
            "[*********************100%%**********************]  1 of 1 completed\n",
            "[*********************100%%**********************]  1 of 1 completed\n"
          ]
        },
        {
          "output_type": "stream",
          "name": "stdout",
          "text": [
            "Downloading data for DE\n",
            "Downloading data for NOC\n"
          ]
        },
        {
          "output_type": "stream",
          "name": "stderr",
          "text": [
            "[*********************100%%**********************]  1 of 1 completed\n",
            "[*********************100%%**********************]  1 of 1 completed\n"
          ]
        },
        {
          "output_type": "stream",
          "name": "stdout",
          "text": [
            "Downloading data for TRV\n",
            "Downloading data for HUM\n"
          ]
        },
        {
          "output_type": "stream",
          "name": "stderr",
          "text": [
            "[*********************100%%**********************]  1 of 1 completed\n",
            "[*********************100%%**********************]  1 of 1 completed\n"
          ]
        },
        {
          "output_type": "stream",
          "name": "stdout",
          "text": [
            "Downloading data for FDX\n",
            "Downloading data for AON\n"
          ]
        },
        {
          "output_type": "stream",
          "name": "stderr",
          "text": [
            "[*********************100%%**********************]  1 of 1 completed\n",
            "[*********************100%%**********************]  1 of 1 completed\n"
          ]
        },
        {
          "output_type": "stream",
          "name": "stdout",
          "text": [
            "Downloading data for ETN\n",
            "Downloading data for ITW\n"
          ]
        },
        {
          "output_type": "stream",
          "name": "stderr",
          "text": [
            "[*********************100%%**********************]  1 of 1 completed\n",
            "[*********************100%%**********************]  1 of 1 completed\n"
          ]
        },
        {
          "output_type": "stream",
          "name": "stdout",
          "text": [
            "Downloading data for CME\n",
            "Downloading data for NEM\n"
          ]
        },
        {
          "output_type": "stream",
          "name": "stderr",
          "text": [
            "\r[*********************100%%**********************]  1 of 1 completed\n"
          ]
        }
      ]
    },
    {
      "cell_type": "code",
      "source": [
        "                                                           # Convert the dictionary to a pandas DataFrame\n",
        "all_data = pd.concat(data, axis=1)\n",
        "all_data.to_csv('stock_dataset.csv')                      # stored data in csv file"
      ],
      "metadata": {
        "id": "8LLeZA40m16D"
      },
      "id": "8LLeZA40m16D",
      "execution_count": 30,
      "outputs": []
    },
    {
      "cell_type": "code",
      "source": [
        "import yfinance as yf\n",
        "import pandas as pd\n",
        "import ta  # Technical Analysis library\n",
        "\n",
        "                                               # Initialize the dictionary to store the calculated indicators\n",
        "indicators = {}\n",
        "\n",
        "# List of stock symbols\n",
        "stock_symbols = [\"AAPL\", \"MSFT\", \"GOOGL\", \"AMZN\", \"TSLA\", \"NVDA\", \"JPM\", \"JNJ\", \"V\",\n",
        "    \"UNH\", \"HD\", \"PG\", \"PYPL\", \"DIS\", \"MA\", \"NFLX\", \"ADBE\", \"CRM\", \"XOM\",\n",
        "    \"KO\", \"NKE\", \"MRK\", \"PEP\", \"PFE\", \"T\", \"MCD\", \"VZ\", \"INTC\", \"CSCO\",\n",
        "    \"WMT\", \"BA\", \"CMCSA\", \"ABT\", \"ACN\", \"ABBV\", \"COST\", \"MDT\", \"DHR\", \"TMO\",\n",
        "    \"NEE\", \"TXN\", \"HON\", \"AVGO\", \"QCOM\", \"AMGN\", \"UNP\", \"LIN\", \"PM\", \"LOW\",\n",
        "    \"IBM\", \"SBUX\", \"MMM\", \"GE\", \"CAT\", \"CVX\", \"SPGI\", \"AXP\", \"GS\", \"RTX\",\n",
        "    \"MS\", \"BLK\", \"CI\", \"PLD\", \"INTU\", \"MO\", \"BKNG\", \"ISRG\", \"LMT\", \"FISV\",\n",
        "    \"SYK\", \"ZTS\", \"MDLZ\", \"AMT\", \"SCHW\", \"ADP\", \"CB\", \"CCI\", \"DUK\", \"GM\",\n",
        "    \"EW\", \"SO\", \"BDX\", \"ICE\", \"ATVI\", \"MMC\", \"GILD\", \"MU\", \"VRTX\", \"TFC\",\n",
        "    \"APD\", \"DE\", \"NOC\", \"TRV\", \"HUM\", \"FDX\", \"AON\", \"ETN\", \"ITW\", \"CME\",\n",
        "    \"NEM\"]\n",
        "\n",
        "# Download stock data\n",
        "all_data = yf.download(stock_symbols, start='2020-01-01', end='2023-01-01', group_by='ticker')\n",
        "\n",
        "# Loop through each stock symbol to calculate indicators\n",
        "for symbol in stock_symbols:\n",
        "    try:\n",
        "        # Extract the 'Close' prices for the current symbol\n",
        "        close = all_data[(symbol, 'Close')].dropna()\n",
        "\n",
        "        # Calculate RSI\n",
        "        rsi = ta.momentum.RSIIndicator(close, window=14).rsi()\n",
        "        indicators[(symbol, 'RSI')] = rsi\n",
        "\n",
        "        # Calculate MACD\n",
        "        macd = ta.trend.MACD(close, window_slow=26, window_fast=12, window_sign=9)\n",
        "        indicators[(symbol, 'MACD')] = macd.macd()\n",
        "        indicators[(symbol, 'MACD_Signal')] = macd.macd_signal()\n",
        "        indicators[(symbol, 'MACD_Hist')] = macd.macd_diff()\n",
        "\n",
        "        # Calculate Bollinger Bands\n",
        "        bbands = ta.volatility.BollingerBands(close, window=20, window_dev=2)\n",
        "        indicators[(symbol, 'BB_upper')] = bbands.bollinger_hband()\n",
        "        indicators[(symbol, 'BB_middle')] = bbands.bollinger_mavg()\n",
        "        indicators[(symbol, 'BB_lower')] = bbands.bollinger_lband()\n",
        "    except KeyError:\n",
        "        print(f\"Data for {symbol} not found in all_data\")\n",
        "\n",
        "# Assuming 'data' is a dictionary containing your DataFrames\n",
        "\n",
        "\n",
        "for symbol, df in data.items():\n",
        "    print(f\"Columns for {symbol}: {df.columns}\")\n"
      ],
      "metadata": {
        "colab": {
          "base_uri": "https://localhost:8080/"
        },
        "id": "SDXucMU8m8cd",
        "outputId": "2c9a928c-f886-4fee-e2f8-00823c39158a"
      },
      "id": "SDXucMU8m8cd",
      "execution_count": 31,
      "outputs": [
        {
          "output_type": "stream",
          "name": "stderr",
          "text": [
            "[*********************100%%**********************]  100 of 100 completed\n",
            "ERROR:yfinance:\n",
            "2 Failed downloads:\n",
            "ERROR:yfinance:['FISV']: YFChartError(\"%ticker%: Data doesn't exist for startDate = 1577854800, endDate = 1672549200\")\n",
            "ERROR:yfinance:['ATVI']: YFTzMissingError('$%ticker%: possibly delisted; No timezone found')\n"
          ]
        },
        {
          "output_type": "stream",
          "name": "stdout",
          "text": [
            "Columns for AAPL: Index(['Open', 'High', 'Low', 'Close', 'Adj Close', 'Volume'], dtype='object')\n",
            "Columns for MSFT: Index(['Open', 'High', 'Low', 'Close', 'Adj Close', 'Volume'], dtype='object')\n",
            "Columns for GOOGL: Index(['Open', 'High', 'Low', 'Close', 'Adj Close', 'Volume'], dtype='object')\n",
            "Columns for AMZN: Index(['Open', 'High', 'Low', 'Close', 'Adj Close', 'Volume'], dtype='object')\n",
            "Columns for TSLA: Index(['Open', 'High', 'Low', 'Close', 'Adj Close', 'Volume'], dtype='object')\n",
            "Columns for NVDA: Index(['Open', 'High', 'Low', 'Close', 'Adj Close', 'Volume'], dtype='object')\n",
            "Columns for JPM: Index(['Open', 'High', 'Low', 'Close', 'Adj Close', 'Volume'], dtype='object')\n",
            "Columns for JNJ: Index(['Open', 'High', 'Low', 'Close', 'Adj Close', 'Volume'], dtype='object')\n",
            "Columns for V: Index(['Open', 'High', 'Low', 'Close', 'Adj Close', 'Volume'], dtype='object')\n",
            "Columns for UNH: Index(['Open', 'High', 'Low', 'Close', 'Adj Close', 'Volume'], dtype='object')\n",
            "Columns for HD: Index(['Open', 'High', 'Low', 'Close', 'Adj Close', 'Volume'], dtype='object')\n",
            "Columns for PG: Index(['Open', 'High', 'Low', 'Close', 'Adj Close', 'Volume'], dtype='object')\n",
            "Columns for PYPL: Index(['Open', 'High', 'Low', 'Close', 'Adj Close', 'Volume'], dtype='object')\n",
            "Columns for DIS: Index(['Open', 'High', 'Low', 'Close', 'Adj Close', 'Volume'], dtype='object')\n",
            "Columns for MA: Index(['Open', 'High', 'Low', 'Close', 'Adj Close', 'Volume'], dtype='object')\n",
            "Columns for NFLX: Index(['Open', 'High', 'Low', 'Close', 'Adj Close', 'Volume'], dtype='object')\n",
            "Columns for ADBE: Index(['Open', 'High', 'Low', 'Close', 'Adj Close', 'Volume'], dtype='object')\n",
            "Columns for CRM: Index(['Open', 'High', 'Low', 'Close', 'Adj Close', 'Volume'], dtype='object')\n",
            "Columns for XOM: Index(['Open', 'High', 'Low', 'Close', 'Adj Close', 'Volume'], dtype='object')\n",
            "Columns for KO: Index(['Open', 'High', 'Low', 'Close', 'Adj Close', 'Volume'], dtype='object')\n",
            "Columns for NKE: Index(['Open', 'High', 'Low', 'Close', 'Adj Close', 'Volume'], dtype='object')\n",
            "Columns for MRK: Index(['Open', 'High', 'Low', 'Close', 'Adj Close', 'Volume'], dtype='object')\n",
            "Columns for PEP: Index(['Open', 'High', 'Low', 'Close', 'Adj Close', 'Volume'], dtype='object')\n",
            "Columns for PFE: Index(['Open', 'High', 'Low', 'Close', 'Adj Close', 'Volume'], dtype='object')\n",
            "Columns for T: Index(['Open', 'High', 'Low', 'Close', 'Adj Close', 'Volume'], dtype='object')\n",
            "Columns for MCD: Index(['Open', 'High', 'Low', 'Close', 'Adj Close', 'Volume'], dtype='object')\n",
            "Columns for VZ: Index(['Open', 'High', 'Low', 'Close', 'Adj Close', 'Volume'], dtype='object')\n",
            "Columns for INTC: Index(['Open', 'High', 'Low', 'Close', 'Adj Close', 'Volume'], dtype='object')\n",
            "Columns for CSCO: Index(['Open', 'High', 'Low', 'Close', 'Adj Close', 'Volume'], dtype='object')\n",
            "Columns for WMT: Index(['Open', 'High', 'Low', 'Close', 'Adj Close', 'Volume'], dtype='object')\n",
            "Columns for BA: Index(['Open', 'High', 'Low', 'Close', 'Adj Close', 'Volume'], dtype='object')\n",
            "Columns for CMCSA: Index(['Open', 'High', 'Low', 'Close', 'Adj Close', 'Volume'], dtype='object')\n",
            "Columns for ABT: Index(['Open', 'High', 'Low', 'Close', 'Adj Close', 'Volume'], dtype='object')\n",
            "Columns for ACN: Index(['Open', 'High', 'Low', 'Close', 'Adj Close', 'Volume'], dtype='object')\n",
            "Columns for ABBV: Index(['Open', 'High', 'Low', 'Close', 'Adj Close', 'Volume'], dtype='object')\n",
            "Columns for COST: Index(['Open', 'High', 'Low', 'Close', 'Adj Close', 'Volume'], dtype='object')\n",
            "Columns for MDT: Index(['Open', 'High', 'Low', 'Close', 'Adj Close', 'Volume'], dtype='object')\n",
            "Columns for DHR: Index(['Open', 'High', 'Low', 'Close', 'Adj Close', 'Volume'], dtype='object')\n",
            "Columns for TMO: Index(['Open', 'High', 'Low', 'Close', 'Adj Close', 'Volume'], dtype='object')\n",
            "Columns for NEE: Index(['Open', 'High', 'Low', 'Close', 'Adj Close', 'Volume'], dtype='object')\n",
            "Columns for TXN: Index(['Open', 'High', 'Low', 'Close', 'Adj Close', 'Volume'], dtype='object')\n",
            "Columns for HON: Index(['Open', 'High', 'Low', 'Close', 'Adj Close', 'Volume'], dtype='object')\n",
            "Columns for AVGO: Index(['Open', 'High', 'Low', 'Close', 'Adj Close', 'Volume'], dtype='object')\n",
            "Columns for QCOM: Index(['Open', 'High', 'Low', 'Close', 'Adj Close', 'Volume'], dtype='object')\n",
            "Columns for AMGN: Index(['Open', 'High', 'Low', 'Close', 'Adj Close', 'Volume'], dtype='object')\n",
            "Columns for UNP: Index(['Open', 'High', 'Low', 'Close', 'Adj Close', 'Volume'], dtype='object')\n",
            "Columns for LIN: Index(['Open', 'High', 'Low', 'Close', 'Adj Close', 'Volume'], dtype='object')\n",
            "Columns for PM: Index(['Open', 'High', 'Low', 'Close', 'Adj Close', 'Volume'], dtype='object')\n",
            "Columns for LOW: Index(['Open', 'High', 'Low', 'Close', 'Adj Close', 'Volume'], dtype='object')\n",
            "Columns for IBM: Index(['Open', 'High', 'Low', 'Close', 'Adj Close', 'Volume'], dtype='object')\n",
            "Columns for SBUX: Index(['Open', 'High', 'Low', 'Close', 'Adj Close', 'Volume'], dtype='object')\n",
            "Columns for MMM: Index(['Open', 'High', 'Low', 'Close', 'Adj Close', 'Volume'], dtype='object')\n",
            "Columns for GE: Index(['Open', 'High', 'Low', 'Close', 'Adj Close', 'Volume'], dtype='object')\n",
            "Columns for CAT: Index(['Open', 'High', 'Low', 'Close', 'Adj Close', 'Volume'], dtype='object')\n",
            "Columns for CVX: Index(['Open', 'High', 'Low', 'Close', 'Adj Close', 'Volume'], dtype='object')\n",
            "Columns for SPGI: Index(['Open', 'High', 'Low', 'Close', 'Adj Close', 'Volume'], dtype='object')\n",
            "Columns for AXP: Index(['Open', 'High', 'Low', 'Close', 'Adj Close', 'Volume'], dtype='object')\n",
            "Columns for GS: Index(['Open', 'High', 'Low', 'Close', 'Adj Close', 'Volume'], dtype='object')\n",
            "Columns for RTX: Index(['Open', 'High', 'Low', 'Close', 'Adj Close', 'Volume'], dtype='object')\n",
            "Columns for MS: Index(['Open', 'High', 'Low', 'Close', 'Adj Close', 'Volume'], dtype='object')\n",
            "Columns for BLK: Index(['Open', 'High', 'Low', 'Close', 'Adj Close', 'Volume'], dtype='object')\n",
            "Columns for CI: Index(['Open', 'High', 'Low', 'Close', 'Adj Close', 'Volume'], dtype='object')\n",
            "Columns for PLD: Index(['Open', 'High', 'Low', 'Close', 'Adj Close', 'Volume'], dtype='object')\n",
            "Columns for INTU: Index(['Open', 'High', 'Low', 'Close', 'Adj Close', 'Volume'], dtype='object')\n",
            "Columns for MO: Index(['Open', 'High', 'Low', 'Close', 'Adj Close', 'Volume'], dtype='object')\n",
            "Columns for BKNG: Index(['Open', 'High', 'Low', 'Close', 'Adj Close', 'Volume'], dtype='object')\n",
            "Columns for ISRG: Index(['Open', 'High', 'Low', 'Close', 'Adj Close', 'Volume'], dtype='object')\n",
            "Columns for LMT: Index(['Open', 'High', 'Low', 'Close', 'Adj Close', 'Volume'], dtype='object')\n",
            "Columns for FISV: Index(['Open', 'High', 'Low', 'Close', 'Adj Close', 'Volume'], dtype='object')\n",
            "Columns for SYK: Index(['Open', 'High', 'Low', 'Close', 'Adj Close', 'Volume'], dtype='object')\n",
            "Columns for ZTS: Index(['Open', 'High', 'Low', 'Close', 'Adj Close', 'Volume'], dtype='object')\n",
            "Columns for MDLZ: Index(['Open', 'High', 'Low', 'Close', 'Adj Close', 'Volume'], dtype='object')\n",
            "Columns for AMT: Index(['Open', 'High', 'Low', 'Close', 'Adj Close', 'Volume'], dtype='object')\n",
            "Columns for SCHW: Index(['Open', 'High', 'Low', 'Close', 'Adj Close', 'Volume'], dtype='object')\n",
            "Columns for ADP: Index(['Open', 'High', 'Low', 'Close', 'Adj Close', 'Volume'], dtype='object')\n",
            "Columns for CB: Index(['Open', 'High', 'Low', 'Close', 'Adj Close', 'Volume'], dtype='object')\n",
            "Columns for CCI: Index(['Open', 'High', 'Low', 'Close', 'Adj Close', 'Volume'], dtype='object')\n",
            "Columns for DUK: Index(['Open', 'High', 'Low', 'Close', 'Adj Close', 'Volume'], dtype='object')\n",
            "Columns for GM: Index(['Open', 'High', 'Low', 'Close', 'Adj Close', 'Volume'], dtype='object')\n",
            "Columns for EW: Index(['Open', 'High', 'Low', 'Close', 'Adj Close', 'Volume'], dtype='object')\n",
            "Columns for SO: Index(['Open', 'High', 'Low', 'Close', 'Adj Close', 'Volume'], dtype='object')\n",
            "Columns for BDX: Index(['Open', 'High', 'Low', 'Close', 'Adj Close', 'Volume'], dtype='object')\n",
            "Columns for ICE: Index(['Open', 'High', 'Low', 'Close', 'Adj Close', 'Volume'], dtype='object')\n",
            "Columns for ATVI: Index(['Open', 'High', 'Low', 'Close', 'Adj Close', 'Volume'], dtype='object')\n",
            "Columns for MMC: Index(['Open', 'High', 'Low', 'Close', 'Adj Close', 'Volume'], dtype='object')\n",
            "Columns for GILD: Index(['Open', 'High', 'Low', 'Close', 'Adj Close', 'Volume'], dtype='object')\n",
            "Columns for MU: Index(['Open', 'High', 'Low', 'Close', 'Adj Close', 'Volume'], dtype='object')\n",
            "Columns for VRTX: Index(['Open', 'High', 'Low', 'Close', 'Adj Close', 'Volume'], dtype='object')\n",
            "Columns for TFC: Index(['Open', 'High', 'Low', 'Close', 'Adj Close', 'Volume'], dtype='object')\n",
            "Columns for APD: Index(['Open', 'High', 'Low', 'Close', 'Adj Close', 'Volume'], dtype='object')\n",
            "Columns for DE: Index(['Open', 'High', 'Low', 'Close', 'Adj Close', 'Volume'], dtype='object')\n",
            "Columns for NOC: Index(['Open', 'High', 'Low', 'Close', 'Adj Close', 'Volume'], dtype='object')\n",
            "Columns for TRV: Index(['Open', 'High', 'Low', 'Close', 'Adj Close', 'Volume'], dtype='object')\n",
            "Columns for HUM: Index(['Open', 'High', 'Low', 'Close', 'Adj Close', 'Volume'], dtype='object')\n",
            "Columns for FDX: Index(['Open', 'High', 'Low', 'Close', 'Adj Close', 'Volume'], dtype='object')\n",
            "Columns for AON: Index(['Open', 'High', 'Low', 'Close', 'Adj Close', 'Volume'], dtype='object')\n",
            "Columns for ETN: Index(['Open', 'High', 'Low', 'Close', 'Adj Close', 'Volume'], dtype='object')\n",
            "Columns for ITW: Index(['Open', 'High', 'Low', 'Close', 'Adj Close', 'Volume'], dtype='object')\n",
            "Columns for CME: Index(['Open', 'High', 'Low', 'Close', 'Adj Close', 'Volume'], dtype='object')\n",
            "Columns for NEM: Index(['Open', 'High', 'Low', 'Close', 'Adj Close', 'Volume'], dtype='object')\n"
          ]
        }
      ]
    },
    {
      "cell_type": "code",
      "source": [
        "import pandas as pd\n",
        "\n",
        "                                                                  # Generate Buy/Sell Signals\n",
        "\n",
        "# Simplified example data dictionary for debugging purposes\n",
        "data_dict = {\n",
        "    'AAPL': {\n",
        "        'RSI': [25, 75, 40, 45],  # RSI below 30 and above 70 for testing\n",
        "        'MACD': [2, 1, 3, 4],  # MACD greater than MACD Signal in some cases\n",
        "        'MACD_Signal': [1, 2, 2.5, 4.5],  # MACD Signal\n",
        "        'Close': [140, 165, 160, 165],  # Close below and above bands\n",
        "        'BB_lower': [145, 150, 155, 160],  # Lower Bollinger Band\n",
        "        'BB_upper': [155, 160, 165, 170]  # Upper Bollinger Band\n",
        "    },\n",
        "    'GOOG': {\n",
        "        'RSI': [25, 85, 35, 30],  # RSI below 30 and above 70 for testing\n",
        "        'MACD': [4, 1, 2, 3],  # MACD less than MACD Signal in some cases\n",
        "        'MACD_Signal': [3.5, 5.5, 3.5, 3.5],  # MACD Signal\n",
        "        'Close': [995, 1035, 1025, 1010],  # Close below and above bands\n",
        "        'BB_lower': [1000, 1010, 1020, 1030],  # Lower Bollinger Band\n",
        "        'BB_upper': [1010, 1020, 1030, 1040]  # Upper Bollinger Band\n",
        "    },\n",
        "    'FDX': {\n",
        "        'RSI': [27, 80, 38, 33],  # RSI below 30 and above 70 for testing\n",
        "        'MACD': [3, 1, 2, 4],  # MACD less than MACD Signal in some cases\n",
        "        'MACD_Signal': [3.5, 5.5, 3.5, 3.5],  # MACD Signal\n",
        "        'Close': [995, 1035, 1025, 1010],  # Close below and above bands\n",
        "        'BB_lower': [1000, 1010, 1020, 1030],  # Lower Bollinger Band\n",
        "        'BB_upper': [1010, 1020, 1030, 1040]  # Upper Bollinger Band\n",
        "    },\n",
        "    'RTX': {\n",
        "        'RSI': [25, 85, 35, 30],  # RSI below 30 and above 70 for testing\n",
        "        'MACD': [2, 4, 2, 1],  # MACD less than MACD Signal in some cases\n",
        "        'MACD_Signal': [3.8, 5.8, 3.8, 3.8],  # MACD Signal\n",
        "        'Close': [998, 1037, 1024, 1016],  # Close below and above bands\n",
        "        'BB_lower': [1020, 1050, 1070, 1010],  # Lower Bollinger Band\n",
        "        'BB_upper': [1010, 1020, 1030, 1040]  # Upper Bollinger Band\n",
        "    }\n",
        "}\n"
      ],
      "metadata": {
        "id": "thTXb1rQnlJV"
      },
      "id": "thTXb1rQnlJV",
      "execution_count": 32,
      "outputs": []
    },
    {
      "cell_type": "code",
      "source": [
        "# Convert dictionary to DataFrame\n",
        "all_data = pd.concat(\n",
        "    {symbol: pd.DataFrame(indicators) for symbol, indicators in data_dict.items()},\n",
        "    axis=1\n",
        ")\n",
        "\n",
        "print(\"All Data Columns:\")\n",
        "print(all_data.columns)\n",
        "\n",
        "# Define the buy/sell signal logic\n",
        "def generate_signals(data):\n",
        "    # Extract the stock symbols from the columns\n",
        "    stock_symbols = data.columns.levels[0]\n",
        "\n",
        "    # Create a new DataFrame for signals with a MultiIndex similar to data\n",
        "    signals = pd.DataFrame(index=data.index, columns=pd.MultiIndex.from_product([stock_symbols, ['signal']]))\n",
        "    signals[:] = 0  # Initialize all signals to 0\n",
        "\n",
        "    for symbol in stock_symbols:\n",
        "        print(f\"Processing symbol: {symbol}\")\n",
        "\n",
        "        rsi = data[(symbol, 'RSI')]\n",
        "        macd = data[(symbol, 'MACD')]\n",
        "        macd_signal = data[(symbol, 'MACD_Signal')]\n",
        "        close = data[(symbol, 'Close')]\n",
        "        lowerband = data[(symbol, 'BB_lower')]\n",
        "        upperband = data[(symbol, 'BB_upper')]\n",
        "\n",
        "        print(f\"RSI for {symbol}: {rsi.values}\")\n",
        "        print(f\"MACD for {symbol}: {macd.values}\")\n",
        "        print(f\"MACD Signal for {symbol}: {macd_signal.values}\")\n",
        "        print(f\"Close for {symbol}: {close.values}\")\n",
        "        print(f\"Lower Band for {symbol}: {lowerband.values}\")\n",
        "        print(f\"Upper Band for {symbol}: {upperband.values}\")\n",
        "\n",
        "        buy_condition = (rsi < 30) & (macd > macd_signal) & (close < lowerband)\n",
        "        sell_condition = (rsi > 70) & (macd < macd_signal) & (close > upperband)\n",
        "\n",
        "        print(f\"Buy condition for {symbol}: {buy_condition.values}\")\n",
        "        print(f\"Sell condition for {symbol}: {sell_condition.values}\")\n",
        "\n",
        "        signals.loc[buy_condition, (symbol, 'signal')] = 1\n",
        "        signals.loc[sell_condition, (symbol, 'signal')] = -1\n",
        "\n",
        "    return signals\n",
        "    # Generate signals\n",
        "signals = generate_signals(all_data)\n",
        "print(\"Generated Signals:\")\n",
        "print(signals)\n",
        "\n",
        "# Save signals to CSV\n",
        "signals.to_csv('signals.csv')\n",
        "print(\"Signals generation complete and saved to 'signals.csv'.\")"
      ],
      "metadata": {
        "colab": {
          "base_uri": "https://localhost:8080/"
        },
        "id": "rcK17RqZnvoP",
        "outputId": "84b42e9a-74ee-4827-e3f9-0ed996643d6f"
      },
      "id": "rcK17RqZnvoP",
      "execution_count": 33,
      "outputs": [
        {
          "output_type": "stream",
          "name": "stdout",
          "text": [
            "All Data Columns:\n",
            "MultiIndex([('AAPL',         'RSI'),\n",
            "            ('AAPL',        'MACD'),\n",
            "            ('AAPL', 'MACD_Signal'),\n",
            "            ('AAPL',       'Close'),\n",
            "            ('AAPL',    'BB_lower'),\n",
            "            ('AAPL',    'BB_upper'),\n",
            "            ('GOOG',         'RSI'),\n",
            "            ('GOOG',        'MACD'),\n",
            "            ('GOOG', 'MACD_Signal'),\n",
            "            ('GOOG',       'Close'),\n",
            "            ('GOOG',    'BB_lower'),\n",
            "            ('GOOG',    'BB_upper'),\n",
            "            ( 'FDX',         'RSI'),\n",
            "            ( 'FDX',        'MACD'),\n",
            "            ( 'FDX', 'MACD_Signal'),\n",
            "            ( 'FDX',       'Close'),\n",
            "            ( 'FDX',    'BB_lower'),\n",
            "            ( 'FDX',    'BB_upper'),\n",
            "            ( 'RTX',         'RSI'),\n",
            "            ( 'RTX',        'MACD'),\n",
            "            ( 'RTX', 'MACD_Signal'),\n",
            "            ( 'RTX',       'Close'),\n",
            "            ( 'RTX',    'BB_lower'),\n",
            "            ( 'RTX',    'BB_upper')],\n",
            "           )\n",
            "Processing symbol: AAPL\n",
            "RSI for AAPL: [25 75 40 45]\n",
            "MACD for AAPL: [2 1 3 4]\n",
            "MACD Signal for AAPL: [1.  2.  2.5 4.5]\n",
            "Close for AAPL: [140 165 160 165]\n",
            "Lower Band for AAPL: [145 150 155 160]\n",
            "Upper Band for AAPL: [155 160 165 170]\n",
            "Buy condition for AAPL: [ True False False False]\n",
            "Sell condition for AAPL: [False  True False False]\n",
            "Processing symbol: GOOG\n",
            "RSI for GOOG: [25 85 35 30]\n",
            "MACD for GOOG: [4 1 2 3]\n",
            "MACD Signal for GOOG: [3.5 5.5 3.5 3.5]\n",
            "Close for GOOG: [ 995 1035 1025 1010]\n",
            "Lower Band for GOOG: [1000 1010 1020 1030]\n",
            "Upper Band for GOOG: [1010 1020 1030 1040]\n",
            "Buy condition for GOOG: [ True False False False]\n",
            "Sell condition for GOOG: [False  True False False]\n",
            "Processing symbol: FDX\n",
            "RSI for FDX: [27 80 38 33]\n",
            "MACD for FDX: [3 1 2 4]\n",
            "MACD Signal for FDX: [3.5 5.5 3.5 3.5]\n",
            "Close for FDX: [ 995 1035 1025 1010]\n",
            "Lower Band for FDX: [1000 1010 1020 1030]\n",
            "Upper Band for FDX: [1010 1020 1030 1040]\n",
            "Buy condition for FDX: [False False False False]\n",
            "Sell condition for FDX: [False  True False False]\n",
            "Processing symbol: RTX\n",
            "RSI for RTX: [25 85 35 30]\n",
            "MACD for RTX: [2 4 2 1]\n",
            "MACD Signal for RTX: [3.8 5.8 3.8 3.8]\n",
            "Close for RTX: [ 998 1037 1024 1016]\n",
            "Lower Band for RTX: [1020 1050 1070 1010]\n",
            "Upper Band for RTX: [1010 1020 1030 1040]\n",
            "Buy condition for RTX: [False False False False]\n",
            "Sell condition for RTX: [False  True False False]\n",
            "Generated Signals:\n",
            "    AAPL   GOOG    FDX    RTX\n",
            "  signal signal signal signal\n",
            "0      1      1      0      0\n",
            "1     -1     -1     -1     -1\n",
            "2      0      0      0      0\n",
            "3      0      0      0      0\n",
            "Signals generation complete and saved to 'signals.csv'.\n"
          ]
        }
      ]
    },
    {
      "cell_type": "code",
      "source": [
        "import pandas as pd\n",
        "                                                             #Backtest Strategy\n",
        "def backtest_strategy(data, signals, stock_symbols, initial_cash=100000):\n",
        "    # Initialize portfolio DataFrame\n",
        "    portfolio = pd.DataFrame(index=data.index)\n",
        "    portfolio['cash'] = initial_cash\n",
        "    portfolio['holdings'] = 0.0\n",
        "    portfolio['total'] = initial_cash\n",
        "    portfolio['returns'] = 0.0\n",
        "\n",
        "    # Create a DataFrame to store the positions\n",
        "    positions = pd.DataFrame(index=data.index)\n",
        "\n",
        "    # Filter stock symbols to those present in both all_data and signals\n",
        "    available_symbols = [symbol for symbol in stock_symbols if (symbol, 'Close') in data.columns and (symbol, 'signal') in signals.columns]\n",
        "\n",
        "    print(f\"Available symbols: {available_symbols}\")\n",
        "\n",
        "    for symbol in available_symbols:\n",
        "        # Shift the signal by one day to avoid look-ahead bias\n",
        "        positions[symbol] = signals[(symbol, 'signal')].shift(1).fillna(0)\n",
        "\n",
        "    # Calculate daily returns\n",
        "    for symbol in available_symbols:\n",
        "        daily_returns = data[(symbol, 'Close')].pct_change().fillna(0)\n",
        "        portfolio[symbol] = positions[symbol] * daily_returns\n",
        "\n",
        "    # Update cash and holdings\n",
        "    for i in range(1, len(portfolio)):\n",
        "        portfolio.loc[portfolio.index[i], 'cash'] = portfolio.loc[portfolio.index[i-1], 'cash']\n",
        "        portfolio.loc[portfolio.index[i], 'holdings'] = 0.0\n",
        "\n",
        "        for symbol in available_symbols:\n",
        "            portfolio.loc[portfolio.index[i], 'cash'] -= positions.loc[portfolio.index[i], symbol] * data.loc[portfolio.index[i], (symbol, 'Close')]\n",
        "            portfolio.loc[portfolio.index[i], 'holdings'] += positions.loc[portfolio.index[i], symbol] * data.loc[portfolio.index[i], (symbol, 'Close')]\n",
        "\n",
        "        portfolio.loc[portfolio.index[i], 'total'] = portfolio.loc[portfolio.index[i], 'cash'] + portfolio.loc[portfolio.index[i], 'holdings']\n",
        "        portfolio.loc[portfolio.index[i], 'returns'] = portfolio.loc[portfolio.index[i], 'total'] / portfolio.loc[portfolio.index[i-1], 'total'] - 1\n",
        "\n",
        "    return portfolio\n",
        "\n",
        "\n",
        "\n",
        "# List of stock symbols to be backtested\n",
        "stock_symbols = ['AAPL', 'GOOG','FDX','RTX']\n",
        "\n",
        "# Call the backtest function\n",
        "portfolio = backtest_strategy(all_data, signals, stock_symbols)\n",
        "print(portfolio.tail())\n",
        "\n",
        "# Calculate cumulative returns\n",
        "portfolio['cumulative_returns'] = (1 + portfolio['returns']).cumprod() - 1\n",
        "print(portfolio[['total', 'cumulative_returns']].tail())"
      ],
      "metadata": {
        "colab": {
          "base_uri": "https://localhost:8080/"
        },
        "id": "zZJYGpUmn5ws",
        "outputId": "dba9e00a-1884-48e9-d2aa-e9153d7d9e89"
      },
      "id": "zZJYGpUmn5ws",
      "execution_count": 34,
      "outputs": [
        {
          "output_type": "stream",
          "name": "stdout",
          "text": [
            "Available symbols: ['AAPL', 'GOOG', 'FDX', 'RTX']\n",
            "     cash  holdings   total   returns      AAPL      GOOG       FDX       RTX\n",
            "0  100000       0.0  100000  0.000000  0.000000  0.000000  0.000000  0.000000\n",
            "1   98800    1200.0  100000  0.000000  0.178571  0.040201  0.000000  0.000000\n",
            "2  102034   -3234.0   98800 -0.012000  0.030303  0.009662  0.009662  0.012536\n",
            "3  102034       0.0  102034  0.032733  0.000000 -0.000000 -0.000000 -0.000000\n",
            "    total  cumulative_returns\n",
            "0  100000             0.00000\n",
            "1  100000             0.00000\n",
            "2   98800            -0.01200\n",
            "3  102034             0.02034\n"
          ]
        }
      ]
    },
    {
      "cell_type": "code",
      "source": [
        "import numpy as np\n",
        "import pandas as pd\n",
        "                                                          #performance_metrics\n",
        "def performance_metrics(portfolio):\n",
        "\n",
        "    if 'cumulative_returns' not in portfolio.columns:\n",
        "        portfolio['cumulative_returns'] = (1 + portfolio['returns']).cumprod() - 1\n",
        "\n",
        "    total_returns = portfolio['cumulative_returns'].iloc[-1]\n",
        "    annualized_returns = ((1 + total_returns) ** (252 / len(portfolio))) - 1\n",
        "\n",
        "    returns_mean = np.mean(portfolio['returns'])\n",
        "    returns_std = np.std(portfolio['returns'])\n",
        "\n",
        "    if returns_std != 0:\n",
        "        sharpe_ratio = returns_mean / returns_std * np.sqrt(252)\n",
        "    else:\n",
        "        sharpe_ratio = np.nan\n",
        "\n",
        "    cumulative_max = portfolio['total'].cummax()\n",
        "    drawdown = (cumulative_max - portfolio['total']) / cumulative_max\n",
        "    max_drawdown = drawdown.max()\n",
        "\n",
        "    metrics = {\n",
        "        'Total Returns': total_returns,\n",
        "        'Annualized Returns': annualized_returns,\n",
        "        'Sharpe Ratio': sharpe_ratio,\n",
        "        'Maximum Drawdown': max_drawdown\n",
        "    }\n",
        "\n",
        "    return metrics\n",
        "\n",
        "\n",
        "data = {\n",
        "    'total': [100, 102, 105, 103, 104, 106],\n",
        "    'returns': [0, 0.02, 0.0294, -0.0190, 0.0097, 0.0192]\n",
        "}\n",
        "portfolio = pd.DataFrame(data)\n",
        "\n",
        "# Ensure 'cumulative_returns' is calculated\n",
        "portfolio['cumulative_returns'] = (1 + portfolio['returns']).cumprod() - 1\n",
        "\n",
        "metrics = performance_metrics(portfolio)\n",
        "print(metrics)"
      ],
      "metadata": {
        "colab": {
          "base_uri": "https://localhost:8080/"
        },
        "id": "KX02Pd7LoCa_",
        "outputId": "4732ec34-1170-41a9-ece2-c5b32ed6cfd4"
      },
      "id": "KX02Pd7LoCa_",
      "execution_count": 35,
      "outputs": [
        {
          "output_type": "stream",
          "name": "stdout",
          "text": [
            "{'Total Returns': 0.05999816710878303, 'Annualized Returns': 10.556193386061606, 'Sharpe Ratio': 9.916151822450868, 'Maximum Drawdown': 0.01904761904761905}\n"
          ]
        }
      ]
    },
    {
      "cell_type": "code",
      "source": [
        "import pandas as pd\n",
        "import matplotlib.pyplot as plt\n",
        "\n",
        "def get_available_symbols(data, signals):\n",
        "    # Filter stock symbols to those present in both all_data and signals\n",
        "    available_symbols = []\n",
        "    for symbol in data.columns.get_level_values(0).unique():\n",
        "        if (symbol, 'Close') in data.columns and (symbol, 'signal') in signals.columns:\n",
        "            available_symbols.append(symbol)\n",
        "    return available_symbols\n",
        "\n",
        "def backtest_strategy(data, signals, stock_symbols, initial_cash=100000):\n",
        "    # Initialize portfolio DataFrame\n",
        "    portfolio = pd.DataFrame(index=data.index)\n",
        "    portfolio['cash'] = initial_cash\n",
        "    portfolio['holdings'] = 0.0\n",
        "    portfolio['total'] = initial_cash\n",
        "    portfolio['returns'] = 0.0\n",
        "\n",
        "    # Create a DataFrame to store the positions\n",
        "    positions = pd.DataFrame(index=data.index)\n",
        "\n",
        "    for symbol in stock_symbols:\n",
        "        # Shift the signal by one day to avoid look-ahead bias\n",
        "        positions[symbol] = signals[(symbol, 'signal')].shift(1).fillna(0)\n",
        "\n",
        "    # Calculate daily returns\n",
        "    for symbol in stock_symbols:\n",
        "        daily_returns = data[(symbol, 'Close')].pct_change().fillna(0)\n",
        "        portfolio[symbol] = positions[symbol] * daily_returns\n",
        "\n",
        "    # Update cash and holdings\n",
        "    for i in range(1, len(portfolio)):\n",
        "        portfolio.loc[portfolio.index[i], 'cash'] = portfolio.loc[portfolio.index[i-1], 'cash']\n",
        "        portfolio.loc[portfolio.index[i], 'holdings'] = 0.0\n",
        "\n",
        "        for symbol in stock_symbols:\n",
        "            portfolio.loc[portfolio.index[i], 'cash'] -= positions.loc[portfolio.index[i], symbol] * data.loc[portfolio.index[i], (symbol, 'Close')]\n",
        "            portfolio.loc[portfolio.index[i], 'holdings'] += positions.loc[portfolio.index[i], symbol] * data.loc[portfolio.index[i], (symbol, 'Close')]\n",
        "\n",
        "        portfolio.loc[portfolio.index[i], 'total'] = portfolio.loc[portfolio.index[i], 'cash'] + portfolio.loc[portfolio.index[i], 'holdings']\n",
        "        portfolio.loc[portfolio.index[i], 'returns'] = portfolio.loc[portfolio.index[i], 'total'] / portfolio.loc[portfolio.index[i-1], 'total'] - 1\n",
        "\n",
        "    return portfolio\n",
        "\n",
        "\n",
        "all_data = pd.DataFrame({\n",
        "    ('AAPL', 'Close'): [140, 165, 160, 165],\n",
        "    ('GOOG', 'Close'): [995, 1035, 1025, 1010],\n",
        "    ('FDX', 'Close'): [985, 1045, 1035, 1015],\n",
        "    ('RTX', 'Close'): [975, 1025, 1055, 1030],\n",
        "    ('AAPL', 'RSI'): [25, 75, 40, 45],\n",
        "    ('GOOG', 'RSI'): [25, 85, 35, 30],\n",
        "    ('FDX', 'RSI'): [35, 65, 45, 20],\n",
        "    ('RTX', 'RSI'): [55, 75, 25, 40]\n",
        "}, index=[0, 1, 2, 3])\n",
        "\n",
        "signals = pd.DataFrame({\n",
        "    ('AAPL', 'signal'): [1, -1, 0, 0],\n",
        "    ('GOOG', 'signal'): [1, -1, 0, 0],\n",
        "    ('FDX', 'signal'): [0, -1, 0, 0],\n",
        "    ('RTX', 'signal'): [0, -1, 0, 0]\n",
        "}, index=[0, 1, 2, 3])\n",
        "\n",
        "# Get available symbols\n",
        "available_symbols = get_available_symbols(all_data, signals)\n",
        "print(f\"Available symbols: {available_symbols}\")\n",
        "\n",
        "# Call the backtest function\n",
        "portfolio = backtest_strategy(all_data, signals, available_symbols)\n",
        "print(portfolio.tail())\n",
        "\n",
        "# Calculate cumulative returns\n",
        "portfolio['cumulative_returns'] = (1 + portfolio['returns']).cumprod() - 1\n",
        "print(portfolio[['total', 'cumulative_returns']].tail())\n",
        "\n",
        "# Plot close prices and signals for the available symbols\n",
        "plt.figure(figsize=(14, 7))\n",
        "for symbol in available_symbols:\n",
        "    plt.plot(all_data.index, all_data[(symbol, 'Close')], label=f'{symbol} Close Price')\n",
        "    buy_signals = all_data[(symbol, 'Close')][signals[(symbol, 'signal')] == 1]\n",
        "    sell_signals = all_data[(symbol, 'Close')][signals[(symbol, 'signal')] == -1]\n",
        "    plt.scatter(buy_signals.index, buy_signals, marker='^', color='g', label=f'{symbol} Buy Signal')\n",
        "    plt.scatter(sell_signals.index, sell_signals, marker='v', color='r', label=f'{symbol} Sell Signal')\n",
        "\n",
        "plt.legend()\n",
        "plt.title('Stock Prices and Trading Signals')\n",
        "plt.xlabel('Date')\n",
        "plt.ylabel('Price')\n",
        "plt.show()\n",
        "\n",
        "# Plot portfolio value over time\n",
        "plt.figure(figsize=(14, 7))\n",
        "plt.plot(portfolio.index, portfolio['total'], label='Portfolio Value')\n",
        "plt.title('Portfolio Value Over Time')\n",
        "plt.xlabel('Date')\n",
        "plt.ylabel('Value ($)')\n",
        "plt.legend()\n",
        "plt.grid(True)\n",
        "plt.show()\n",
        "\n"
      ],
      "metadata": {
        "colab": {
          "base_uri": "https://localhost:8080/",
          "height": 1000
        },
        "id": "3lsNwUV0oQNd",
        "outputId": "845abaad-2ae0-4fdf-aa4c-0a6d644eee94"
      },
      "id": "3lsNwUV0oQNd",
      "execution_count": 36,
      "outputs": [
        {
          "output_type": "stream",
          "name": "stdout",
          "text": [
            "Available symbols: ['AAPL', 'GOOG', 'FDX', 'RTX']\n",
            "     cash  holdings   total   returns      AAPL      GOOG       FDX       RTX\n",
            "0  100000       0.0  100000  0.000000  0.000000  0.000000  0.000000  0.000000\n",
            "1   98800    1200.0  100000  0.000000  0.178571  0.040201  0.000000  0.000000\n",
            "2  102075   -3275.0   98800 -0.012000  0.030303  0.009662  0.009569 -0.029268\n",
            "3  102075       0.0  102075  0.033148  0.000000 -0.000000 -0.000000 -0.000000\n",
            "    total  cumulative_returns\n",
            "0  100000             0.00000\n",
            "1  100000             0.00000\n",
            "2   98800            -0.01200\n",
            "3  102075             0.02075\n"
          ]
        },
        {
          "output_type": "display_data",
          "data": {
            "text/plain": [
              "<Figure size 1400x700 with 1 Axes>"
            ],
            "image/png": "[encoded data removed]"
          },
          "metadata": {}
        },
        {
          "output_type": "display_data",
          "data": {
            "text/plain": [
              "<Figure size 1400x700 with 1 Axes>"
            ],
            "image/png": "[encoded data removed]"
          },
          "metadata": {}
        }
      ]
    },
    {
      "cell_type": "code",
      "source": [
        "\"\"\"\n",
        "Summary of this Project :-\n",
        "1.Importing Libraries: Uses pandas, numpy, matplotlib, yfinance, and pandas_ta for data analysis, visualization, and technical analysis.\n",
        "2.Downloading Stock Data: Fetches historical data for 100 stocks from Yahoo Finance and saves it to a CSV file.\n",
        "3.Calculating Technical Indicators: Computes RSI, MACD, and Bollinger Bands for each stock.\n",
        "4.Generating Trading Signals: Creates buy/sell signals based on RSI, MACD, and Bollinger Band conditions, and stores them in a DataFrame.\n",
        "5.Backtesting Strategy: Simulates trading based on signals, calculating daily returns and total portfolio value.\n",
        "6.Performance Metrics: Evaluates strategy performance with metrics like total returns, annualized returns, Sharpe ratio, and maximum drawdown.\n",
        "7.Data Visualization: Plots stock prices, trading signals, and portfolio value using matplotlib.\n",
        "8.Debugging Data: Provides sample data for debugging.\n",
        "9.Modular Approach: Separates functions for downloading data, calculating indicators, generating signals, backtesting, and performance evaluation.\n",
        "10.Handling Data Availability: Includes checks for missing or unavailable data.\n",
        "11.Function Reusability: Designs functions for reusability with different datasets and conditions.\n",
        "12.Documentation and Comments: Contains comments and print statements for debugging and understanding the process.\n",
        "\"\"\"\n"
      ],
      "metadata": {
        "colab": {
          "base_uri": "https://localhost:8080/",
          "height": 122
        },
        "id": "KdgVWZfRIOdO",
        "outputId": "efad01e6-8c87-4e99-cbc7-db1e511a239a"
      },
      "id": "KdgVWZfRIOdO",
      "execution_count": 38,
      "outputs": [
        {
          "output_type": "execute_result",
          "data": {
            "text/plain": [
              "' \\nSummary of this Project :- \\n1.Importing Libraries: Uses pandas, numpy, matplotlib, yfinance, and pandas_ta for data analysis, visualization, and technical analysis.\\n2.Downloading Stock Data: Fetches historical data for 100 stocks from Yahoo Finance and saves it to a CSV file.\\n3.Calculating Technical Indicators: Computes RSI, MACD, and Bollinger Bands for each stock.\\n4.Generating Trading Signals: Creates buy/sell signals based on RSI, MACD, and Bollinger Band conditions, and stores them in a DataFrame.\\n5.Backtesting Strategy: Simulates trading based on signals, calculating daily returns and total portfolio value.\\n6.Performance Metrics: Evaluates strategy performance with metrics like total returns, annualized returns, Sharpe ratio, and maximum drawdown.\\n7.Data Visualization: Plots stock prices, trading signals, and portfolio value using matplotlib.\\n8.Debugging Data: Provides sample data for debugging.\\n9.Modular Approach: Separates functions for downloading data, calculating indicators, generating signals, backtesting, and performance evaluation.\\n10.Handling Data Availability: Includes checks for missing or unavailable data.\\n11.Function Reusability: Designs functions for reusability with different datasets and conditions.\\n12.Documentation and Comments: Contains comments and print statements for debugging and understanding the process.\\n'"
            ],
            "application/vnd.google.colaboratory.intrinsic+json": {
              "type": "string"
            }
          },
          "metadata": {},
          "execution_count": 38
        }
      ]
    }
  ],
  "metadata": {
    "kernelspec": {
      "display_name": "Python 3 (ipykernel)",
      "language": "python",
      "name": "python3"
    },
    "language_info": {
      "codemirror_mode": {
        "name": "ipython",
        "version": 3
      },
      "file_extension": ".py",
      "mimetype": "text/x-python",
      "name": "python",
      "nbconvert_exporter": "python",
      "pygments_lexer": "ipython3",
      "version": "3.11.7"
    },
    "colab": {
      "provenance": [],
      "include_colab_link": true
    }
  },
  "nbformat": 4,
  "nbformat_minor": 5
}